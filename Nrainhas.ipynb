{
  "cells": [
    {
      "cell_type": "code",
      "execution_count": 16,
      "metadata": {
        "id": "Te9_Dx1o-cM_"
      },
      "outputs": [],
      "source": [
        "import matplotlib.pyplot as plt\n",
        "import seaborn as sns\n",
        "import pandas as pd\n",
        "import math\n",
        "import random\n",
        "import copy"
      ]
    },
    {
      "cell_type": "code",
      "execution_count": 3,
      "metadata": {
        "id": "gh05O7UAZJFy"
      },
      "outputs": [],
      "source": [
        "# Representar e gerar tabuleiro\n",
        "def geraTabulerio(tamanho):\n",
        "  if tamanho < 4 : return [-1] # tabuleiro deve ter no minimo 2 casas\n",
        "  tabuleiro = [] # gera o tabuleiro\n",
        "  for i in range(tamanho): # para cada linha do tabuleiro\n",
        "    tabuleiro.append([]) # adiciona uma linha vazia\n",
        "    for j in range(tamanho): # para cada coluno dessa linha\n",
        "      tabuleiro[i].append(0) # adiciona o valor 0\n",
        "  for i in range(tamanho): # para cada linha to tabuleiro\n",
        "    tabuleiro[i][0] = 1 # colocar o valor 1 na coluna 0\n",
        "  return tabuleiro # retorna o tabuleiro"
      ]
    },
    {
      "cell_type": "code",
      "execution_count": 4,
      "metadata": {
        "id": "7Jpee5PHAJMG"
      },
      "outputs": [],
      "source": [
        "# Localizar Rainhas no tabuleiro\n",
        "def locateQueens(estado):\n",
        "  q = [] # vetor com as posições das rainhas\n",
        "  for i in range(len(estado)): # verifica cada linha\n",
        "    for j in range(len(estado)): # verifica cada coluna\n",
        "      if estado[i][j] == 1 : q.append((i,j)) # se a casa tiver o\n",
        "                                             # o valor 1, adiciona\n",
        "                                             # a posição i,j no vetor\n",
        "  return q # retorna o vertor com as posições das rainhas"
      ]
    },
    {
      "cell_type": "code",
      "execution_count": 5,
      "metadata": {
        "id": "LSMJOg3eFUBp"
      },
      "outputs": [],
      "source": [
        "# Verificar quanto ataques existem no tabulerios\n",
        "def calAtaques(estado):\n",
        "  at = 0 # inicia a contagem com 0 ataques\n",
        "  atlinhas = 0 # inicia a verificação de ataques em linhas\n",
        "  # ataques em linhas\n",
        "  for i in estado: # para cada linha no tabuleiro\n",
        "    if sum(i)>1: # verifica se a soma da linha é maior que 1\n",
        "      atlinhas += sum(i)-1 # se for adiciona o valor da soma a atlinhas\n",
        "  at += atlinhas # adiciona o valor de atlinhas a at\n",
        "\n",
        "  # ataques em colunas\n",
        "  atcolunas = 0 # inicia a verificação de ataques em colunas\n",
        "  for c in range(len(estado)):\n",
        "    nl = 0\n",
        "    for l in range(len(estado)): nl += estado[l][c]\n",
        "    if nl>1: atcolunas += nl - 1\n",
        "  at += atcolunas # adiciona o valor de atcolunas a at\n",
        "\n",
        "  # ataques nas diagonais\n",
        "  pr = locateQueens(estado)\n",
        "  d = 0\n",
        "  for p, coords in enumerate(pr):\n",
        "    i,j = coords\n",
        "    # diagonal esquerda\n",
        "    k,w = i+1, j-1\n",
        "    while (w>=0 and k<len(estado)):\n",
        "      if estado[k][w] == 1:\n",
        "        d+=1\n",
        "        break\n",
        "      w-=1\n",
        "      k+=1\n",
        "    # diagonal direita\n",
        "    l,c = i+1, j+1\n",
        "    while(l< len(estado) and c<len(estado)):\n",
        "      if estado[l][c] == 1:\n",
        "        d+=1\n",
        "        break\n",
        "      l+=1\n",
        "      c+=1\n",
        "  at += d\n",
        "  return at\n",
        "\n"
      ]
    },
    {
      "cell_type": "code",
      "execution_count": 6,
      "metadata": {
        "id": "sYZX7x3mOg2J"
      },
      "outputs": [],
      "source": [
        "def moveRainhaAleatoria(estado, casa):\n",
        "  tam=len(estado)\n",
        "  while True:\n",
        "    i,j = random.choice(locateQueens(estado))\n",
        "    k = (j+casa)%tam\n",
        "    if estado[i][k] == 0:\n",
        "      estado[i][k], estado[i][j] = estado[i][j], estado[i][k]\n",
        "      break\n",
        "  return estado"
      ]
    },
    {
      "cell_type": "code",
      "execution_count": 26,
      "metadata": {},
      "outputs": [],
      "source": [
        "def moveRainhaMelhorPosicao(estado):\n",
        "  tam=len(estado)\n",
        "\n",
        "  for i,j in locateQueens(estado):\n",
        "\n",
        "    new_j = j \n",
        "    min_attacks = calAtaques(estado)\n",
        "    best_state = estado\n",
        "\n",
        "    for possible_j in range(tam):\n",
        "      if possible_j == j: continue\n",
        "\n",
        "      tmp_estate = copy.deepcopy(estado)\n",
        "      tmp_estate[i][j], tmp_estate[i][possible_j] = tmp_estate[i][possible_j], tmp_estate[i][j]\n",
        "      attacks = calAtaques(tmp_estate)\n",
        "      if(attacks < min_attacks):\n",
        "        min_attacks = attacks\n",
        "        new_j = possible_j\n",
        "        best_state = tmp_estate\n",
        "\n",
        "    estado = best_state      \n",
        "\n",
        "  return estado"
      ]
    },
    {
      "cell_type": "code",
      "execution_count": 7,
      "metadata": {
        "id": "Hqs3udtvG33o"
      },
      "outputs": [],
      "source": [
        "def hillClimbing(estado, passo, maxI):\n",
        "  c=0\n",
        "  n=len(estado[0])\n",
        "  maxAtaques = math.factorial(n)/(2*math.factorial(n-2))\n",
        "  ataques = []\n",
        "  change = True\n",
        "  while c <= maxI:\n",
        "    change = False\n",
        "    atq = calAtaques(estado)\n",
        "    ataques.append(maxAtaques - atq)\n",
        "    if atq == 0:\n",
        "      return \"Solução\", estado, atq, ataques, c\n",
        "    suc = moveRainhaAleatoria(copy.deepcopy(estado), passo)\n",
        "    if calAtaques(suc) <= atq:\n",
        "      estado = suc\n",
        "      change = True\n",
        "    if not change: c += 1\n",
        "  return \"Falha\", estado, atq, ataques, c\n"
      ]
    },
    {
      "cell_type": "code",
      "execution_count": 29,
      "metadata": {},
      "outputs": [],
      "source": [
        "def hillClimbing_s1_1(estado, passo, maxI):\n",
        "  c=0\n",
        "  n=len(estado[0])\n",
        "  maxAtaques = math.factorial(n)/(2*math.factorial(n-2))\n",
        "  ataques = []\n",
        "  while c <= maxI:\n",
        "    atq = calAtaques(estado)\n",
        "    ataques.append(maxAtaques - atq)\n",
        "    if atq == 0:\n",
        "      return \"Solução\", estado, atq, ataques, c\n",
        "\n",
        "    suc = moveRainhaMelhorPosicao(copy.deepcopy(estado))\n",
        "\n",
        "    if suc == estado:\n",
        "      suc = moveRainhaAleatoria(estado, passo)\n",
        "\n",
        "    estado = suc\n",
        "\n",
        "    # comoo mudaremos a cada iteracao, c tambem muda a cada iteracao\n",
        "    c += 1\n",
        "  return \"Falha\", estado, atq, ataques, c\n"
      ]
    },
    {
      "cell_type": "markdown",
      "metadata": {},
      "source": [
        "# BENCHMARKING"
      ]
    },
    {
      "cell_type": "code",
      "execution_count": 21,
      "metadata": {},
      "outputs": [],
      "source": [
        "BENCHMARKS_FILE=\"benchmarks.csv\""
      ]
    },
    {
      "cell_type": "code",
      "execution_count": 17,
      "metadata": {},
      "outputs": [],
      "source": [
        "iterations = 1000\n",
        "results = pd.DataFrame(columns=(\"method\", \"iterations\", \"status\", \"board_size\"))"
      ]
    },
    {
      "cell_type": "code",
      "execution_count": 19,
      "metadata": {},
      "outputs": [],
      "source": [
        "for i in range(iterations):\n",
        "    hc_result = hillClimbing(geraTabulerio(9), 1, 1000)\n",
        "    status = hc_result[0]\n",
        "    total_movements = hc_result[-1]\n",
        "    results.loc[len(results)] = {\"method\":\"standard\", \"iterations\":total_movements, \"status\":status, \"board_size\":9}"
      ]
    },
    {
      "cell_type": "code",
      "execution_count": 31,
      "metadata": {},
      "outputs": [],
      "source": [
        "for i in range(iterations):\n",
        "    hc2_result = hillClimbing_s1_1(geraTabulerio(9), 1, 1000)\n",
        "    status = hc2_result[0]\n",
        "    total_movements = hc2_result[-1]\n",
        "    results.loc[len(results)] = {\"method\":\"move best position - random\", \"iterations\":total_movements, \"status\":status, \"board_size\":9}"
      ]
    },
    {
      "cell_type": "code",
      "execution_count": 32,
      "metadata": {},
      "outputs": [],
      "source": [
        "results.to_csv(BENCHMARKS_FILE, index=False)"
      ]
    }
  ],
  "metadata": {
    "colab": {
      "provenance": []
    },
    "kernelspec": {
      "display_name": "n-rainhas",
      "language": "python",
      "name": "python3"
    },
    "language_info": {
      "codemirror_mode": {
        "name": "ipython",
        "version": 3
      },
      "file_extension": ".py",
      "mimetype": "text/x-python",
      "name": "python",
      "nbconvert_exporter": "python",
      "pygments_lexer": "ipython3",
      "version": "3.12.10"
    }
  },
  "nbformat": 4,
  "nbformat_minor": 0
}
